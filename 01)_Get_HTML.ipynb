{
 "cells": [
  {
   "cell_type": "markdown",
   "metadata": {},
   "source": [
    "# Introduzione"
   ]
  },
  {
   "cell_type": "markdown",
   "metadata": {},
   "source": [
    "L'environment **anaconda** da utilizzare è **ddmcs**.  "
   ]
  },
  {
   "cell_type": "markdown",
   "metadata": {},
   "source": [
    "# Importazione pacchetti"
   ]
  },
  {
   "cell_type": "markdown",
   "metadata": {},
   "source": [
    "Importare i vari pacchetti necessari  per eseguire le azioni elencate nell'introduzione:\n",
    "   - selenium (per navigare sulle pagine web)\n",
    "   - request (scaricare dati da internet)\n",
    "   - bs4 (beautiful soup, manipolare gli html)\n",
    "   - os (navigare nei file del computer)\n",
    "   - pandas (manipolazione/esportazione dataframes)\n",
    "   - time (per i time sleep)\n",
    "   - datetime (gestire i timestamp, ovvero le stringhe contenti date e orari)\n",
    "   - tqdm (per le barre di progresso) \n",
    "   - re (lavorare con regex e le regular expressions)"
   ]
  },
  {
   "cell_type": "code",
   "execution_count": 4,
   "metadata": {},
   "outputs": [],
   "source": [
    "#%% Pacchetti\n",
    "## Importazione pacchetti per selenium\n",
    "from selenium import webdriver\n",
    "from selenium.webdriver.chrome.service import Service # Selezionare il chrome driver\n",
    "# Altre funzionalità di selenium\n",
    "#from selenium.webdriver.support.ui import WebDriverWait\n",
    "#from selenium.webdriver.common.by import By\n",
    "#from selenium.webdriver.support import expected_conditions as EC\n",
    "#from selenium.webdriver.common.action_chains import ActionChains\n",
    "#from selenium.webdriver.chrome.options import Options\n",
    "#from selenium.webdriver.common.keys import Keys\n",
    "#from selenium.webdriver.common.actions.wheel_input import ScrollOrigin\n",
    "#from selenium.common.exceptions import TimeoutException\n",
    "#from webdriver_manager.chrome import ChromeDriverManager\n",
    "#-------##-------##-------##-------##-------##-------##-------##-------##-------##-------#\n",
    "import requests # Importazione pacchetti per scaricare dati da internet\n",
    "from bs4 import BeautifulSoup # Importazione pacchetti per gestire HTML\n",
    "import os # Interagire con i file del pc \n",
    "from tqdm import tqdm as tqdm # Importazione pacchetti per barra di progresso\n",
    "import re # Importazione pacchetti per utilizzare regex e le regular expression\n",
    "import time # Importazione pacchetti per utilizzare dei time.sleep()\n",
    "# import pandas as pd  # Importazione pacchetti per lavorare con i dataframe\n",
    "# import warnings # Importazione pacchetti per gestire i warnings, ad esempio quelli di pandas\n",
    "import random # Importazione pacchetti per ottenere numeri casuali, utile per utilizzare time.sleep() randomici (meno identificabili)\n",
    "#from datetime import datetime # Importazione pacchetti per lavorare con timestamps, orari e date\n",
    "\n",
    "\n",
    "\n",
    "# Importare le funzioni per lavorare su instagram con il selenium both\n",
    "from funzioni_selenium_bot_booking import *"
   ]
  },
  {
   "cell_type": "markdown",
   "metadata": {},
   "source": [
    "# Percorsi file \n",
    "Siccome questo bot leggerà e scriverà file localmente, stabilire quali sono i percorsi file di questi elementi.   "
   ]
  },
  {
   "cell_type": "code",
   "execution_count": 5,
   "metadata": {},
   "outputs": [],
   "source": [
    "# Path per il driver di selenium\n",
    "path_driver=\"/Users/mattia/opt/chromedriver137\"\n",
    "\n",
    "# Directory principale dello scraper, ove vi sono gli script e gli html devono essere posizionati\n",
    "path_main_directory = '/Users/mattia/Desktop/Università/Data Science in Python/14) Web Scraping/Scraping-from-booking'"
   ]
  },
  {
   "cell_type": "markdown",
   "metadata": {},
   "source": [
    "Creare le directory ove mettere i file"
   ]
  },
  {
   "cell_type": "code",
   "execution_count": 6,
   "metadata": {},
   "outputs": [],
   "source": [
    "# Andare alla directory principale specificata nella precedente linea di codice\n",
    "os.chdir(path_main_directory)\n",
    "\n",
    "# Se non c'è la directory html crearla. Viene inserita questa clausola per evitare che una directory esistente\n",
    "# venga cancellata\n",
    "if \"html\" not in os.listdir():\n",
    "   os.mkdir(\"html\")\n"
   ]
  },
  {
   "cell_type": "markdown",
   "metadata": {},
   "source": [
    "# Impostare il selenium bot e accesso ad Instagram"
   ]
  },
  {
   "cell_type": "code",
   "execution_count": 7,
   "metadata": {},
   "outputs": [],
   "source": [
    "# La classe Service di Selenium viene utilizzata per gestire e configurare il driver del browser\n",
    "service = Service(executable_path=path_driver)\n",
    "\n",
    "# Configurare il driver di Chrome \n",
    "options = webdriver.ChromeOptions()\n",
    "\n",
    "\n",
    "#options.add_argument(\"--headless\")  # Modalità headless\n",
    "\n",
    "# No images\n",
    "prefs = {\"profile.managed_default_content_settings.images\": 2}\n",
    "options.add_experimental_option(\"prefs\", prefs)\n",
    "\n",
    "\n",
    "# Aggiungere l'utilizzo di proxy\n",
    "#options.add_argument(f'--proxy-server={proxy_address}') # non sembra funzionare con la proxy, troppo lento\n",
    "\n",
    "# Definire il driver: utilizzare il driver scelto (service) e passargli le impostazioni scelte (options)\n",
    "driver = webdriver.Chrome(service=service, options=options)\n",
    "\n",
    "\n",
    "\n",
    "# Impostare le dimensioni della finestra google sulla quale il bot selenium opera.\n",
    "driver.maximize_window() # dimensioni massime\n",
    "#driver.set_window_size(600, 800)   # dimensioni customizzate\n",
    "\n",
    "# Impostare la posizione della finestra google sulla quale il bot selenium opera.\n",
    "#driver.set_window_position(0,0)\n",
    "\n",
    "\n"
   ]
  },
  {
   "cell_type": "markdown",
   "metadata": {},
   "source": [
    "# Istruzioni per il selenium bot "
   ]
  },
  {
   "cell_type": "code",
   "execution_count": 8,
   "metadata": {},
   "outputs": [
    {
     "name": "stdout",
     "output_type": "stream",
     "text": [
      "Cookie accettati metodo 1\n"
     ]
    }
   ],
   "source": [
    "link = \"\"\"https://www.booking.com/searchresults.it.html?ss=Terni&ssne=Terni&ssne_untouched=Terni&efdco=1&label=it-it-booking-desktop-new-VRZD0IC5lt9Ulq*ajTZ_bgS652828999642%3Apl%3Ata%3Ap1%3Ap2%3Aac%3Aap%3Aneg%3Afi%3Atikwd-65526620%3Alp9181216%3Ali%3Adec%3Adm&aid=2311236&lang=it&sb=1&src_elem=sb&src=searchresults&dest_id=-130648&dest_type=city&checkin=2025-08-01&checkout=2025-08-02&group_adults=2&no_rooms=1&group_children=0\"\"\"\n",
    "   \n",
    "driver.get(link) \n",
    "\n",
    "time.sleep(10)\n",
    "\n",
    "click_cookie_button(driver)\n",
    "\n",
    "\n",
    "scroll_step = 200\n",
    "last_height = driver.execute_script(\"return document.body.scrollHeight\")\n",
    "current_position = 0\n",
    "scroll = 0\n",
    "\n",
    "while (current_position < last_height):\n",
    "   # Prendere l'html della pagina \n",
    "   html=driver.page_source \n",
    "\n",
    "\n",
    "   # Salvare l'html in un file txt\n",
    "   with open(f\"{path_main_directory}/HTML/html_{scroll}.txt\",\"w+\") as f:\n",
    "      f.write(str(html))    \n",
    "\n",
    "   driver.execute_script(f\"window.scrollBy(0, {scroll_step});\")\n",
    "   \n",
    "   # Tempo di attesa randomico, meno riconoscibile\n",
    "   tempo_attesa = random.randint(1,3)\n",
    "   time.sleep(tempo_attesa)\n",
    "   \n",
    "   current_position += scroll_step\n",
    "   last_height = driver.execute_script(\"return document.body.scrollHeight\")\n",
    "   scroll += 1\n",
    "\n",
    "\n",
    "\n",
    "# Salvare l'html in un file txt\n",
    "with open(f\"{path_main_directory}/HTML/html_final.txt\",\"w+\") as f:\n",
    "   f.write(str(html)) "
   ]
  }
 ],
 "metadata": {
  "kernelspec": {
   "display_name": "ddmcs",
   "language": "python",
   "name": "python3"
  },
  "language_info": {
   "codemirror_mode": {
    "name": "ipython",
    "version": 3
   },
   "file_extension": ".py",
   "mimetype": "text/x-python",
   "name": "python",
   "nbconvert_exporter": "python",
   "pygments_lexer": "ipython3",
   "version": "3.10.13"
  }
 },
 "nbformat": 4,
 "nbformat_minor": 2
}
